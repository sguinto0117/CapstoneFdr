{
  "metadata": {
    "kernelspec": {
      "name": "python",
      "display_name": "Python (Pyodide)",
      "language": "python"
    },
    "language_info": {
      "codemirror_mode": {
        "name": "python",
        "version": 3
      },
      "file_extension": ".py",
      "mimetype": "text/x-python",
      "name": "python",
      "nbconvert_exporter": "python",
      "pygments_lexer": "ipython3",
      "version": "3.8"
    },
    "prev_pub_hash": "0c470061d7abae1632b4f11c1561e6cfda5dface0e860d070afade5beb8bfaed"
  },
  "nbformat_minor": 4,
  "nbformat": 4,
  "cells": [
    {
      "cell_type": "markdown",
      "source": "<p style=\"text-align:center\">\n    <a href=\"https://skills.network/?utm_medium=Exinfluencer&utm_source=Exinfluencer&utm_content=000026UJ&utm_term=10006555&utm_id=NA-SkillsNetwork-Channel-SkillsNetworkCoursesIBMDS0321ENSkillsNetwork26802033-2022-01-01\" target=\"_blank\">\n    <img src=\"https://cf-courses-data.s3.us.cloud-object-storage.appdomain.cloud/assets/logos/SN_web_lightmode.png\" width=\"200\" alt=\"Skills Network Logo\">\n    </a>\n</p>\n",
      "metadata": {}
    },
    {
      "cell_type": "markdown",
      "source": "# **SpaceX  Falcon 9 First Stage Landing Prediction**\n",
      "metadata": {}
    },
    {
      "cell_type": "markdown",
      "source": "## Assignment: Exploring and Preparing Data\n",
      "metadata": {}
    },
    {
      "cell_type": "markdown",
      "source": "Estimated time needed: **70** minutes\n",
      "metadata": {}
    },
    {
      "cell_type": "markdown",
      "source": "In this assignment, we will predict if the Falcon 9 first stage will land successfully. SpaceX advertises Falcon 9 rocket launches on its website with a cost of 62 million dollars; other providers cost upward of 165 million dollars each, much of the savings is due to the fact that SpaceX can reuse the first stage.\n\nIn this lab, you will perform Exploratory Data Analysis and Feature Engineering.\n",
      "metadata": {}
    },
    {
      "cell_type": "markdown",
      "source": "Falcon 9 first stage will land successfully\n",
      "metadata": {}
    },
    {
      "cell_type": "markdown",
      "source": "![](https://cf-courses-data.s3.us.cloud-object-storage.appdomain.cloud/IBMDeveloperSkillsNetwork-DS0701EN-SkillsNetwork/api/Images/landing_1.gif)\n",
      "metadata": {}
    },
    {
      "cell_type": "markdown",
      "source": "Several examples of an unsuccessful landing are shown here:\n",
      "metadata": {}
    },
    {
      "cell_type": "markdown",
      "source": "![](https://cf-courses-data.s3.us.cloud-object-storage.appdomain.cloud/IBMDeveloperSkillsNetwork-DS0701EN-SkillsNetwork/api/Images/crash.gif)\n",
      "metadata": {}
    },
    {
      "cell_type": "markdown",
      "source": "Most unsuccessful landings are planned. Space X performs a controlled landing in the oceans.\n",
      "metadata": {}
    },
    {
      "cell_type": "markdown",
      "source": "## Objectives\n\nPerform exploratory Data Analysis and Feature Engineering using `Pandas` and `Matplotlib`\n\n*   Exploratory Data Analysis\n*   Preparing Data  Feature Engineering\n",
      "metadata": {}
    },
    {
      "cell_type": "markdown",
      "source": "### Import Libraries and Define Auxiliary Functions\n",
      "metadata": {}
    },
    {
      "cell_type": "markdown",
      "source": "We will import the following libraries the lab\n",
      "metadata": {}
    },
    {
      "cell_type": "code",
      "source": "import piplite\nawait piplite.install(['numpy'])\nawait piplite.install(['pandas'])\nawait piplite.install(['seaborn'])",
      "metadata": {
        "trusted": true
      },
      "outputs": [],
      "execution_count": null
    },
    {
      "cell_type": "code",
      "source": "# pandas is a software library written for the Python programming language for data manipulation and analysis.\nimport pandas as pd\n#NumPy is a library for the Python programming language, adding support for large, multi-dimensional arrays and matrices, along with a large collection of high-level mathematical functions to operate on these arrays\nimport numpy as np\n# Matplotlib is a plotting library for python and pyplot gives us a MatLab like plotting framework. We will use this in our plotter function to plot data.\nimport matplotlib.pyplot as plt\n#Seaborn is a Python data visualization library based on matplotlib. It provides a high-level interface for drawing attractive and informative statistical graphics\nimport seaborn as sns",
      "metadata": {
        "trusted": true
      },
      "outputs": [],
      "execution_count": null
    },
    {
      "cell_type": "markdown",
      "source": "## Exploratory Data Analysis\n",
      "metadata": {}
    },
    {
      "cell_type": "markdown",
      "source": "First, let's read the SpaceX dataset into a Pandas dataframe and print its summary\n",
      "metadata": {}
    },
    {
      "cell_type": "code",
      "source": "from js import fetch\nimport io\n\nURL = \"https://cf-courses-data.s3.us.cloud-object-storage.appdomain.cloud/IBM-DS0321EN-SkillsNetwork/datasets/dataset_part_2.csv\"\nresp = await fetch(URL)\ndataset_part_2_csv = io.BytesIO((await resp.arrayBuffer()).to_py())\ndf=pd.read_csv(dataset_part_2_csv)\ndf.head(5)",
      "metadata": {
        "trusted": true
      },
      "outputs": [],
      "execution_count": null
    },
    {
      "cell_type": "markdown",
      "source": "First, let's try to see how the `FlightNumber` (indicating the continuous launch attempts.) and `Payload` variables would affect the launch outcome.\n\nWe can plot out the <code>FlightNumber</code> vs. <code>PayloadMass</code>and overlay the outcome of the launch. We see that as the flight number increases, the first stage is more likely to land successfully. The payload mass also appears to be a factor; even with more massive payloads, the first stage often returns successfully.\n",
      "metadata": {}
    },
    {
      "cell_type": "code",
      "source": "sns.catplot(y=\"PayloadMass\", x=\"FlightNumber\", hue=\"Class\", data=df, aspect = 5)\nplt.xlabel(\"Flight Number\",fontsize=20)\nplt.ylabel(\"Pay load Mass (kg)\",fontsize=20)\nplt.show()",
      "metadata": {
        "trusted": true
      },
      "outputs": [],
      "execution_count": null
    },
    {
      "cell_type": "markdown",
      "source": "Next, let's drill down to each site visualize its detailed launch records.\n",
      "metadata": {}
    },
    {
      "cell_type": "markdown",
      "source": "### TASK 1: Visualize the relationship between Flight Number and Launch Site\n",
      "metadata": {}
    },
    {
      "cell_type": "markdown",
      "source": "Use the function <code>catplot</code> to plot <code>FlightNumber</code> vs <code>LaunchSite</code>, set the  parameter <code>x</code>  parameter to <code>FlightNumber</code>,set the  <code>y</code> to <code>Launch Site</code> and set the parameter <code>hue</code> to <code>'class'</code>\n",
      "metadata": {}
    },
    {
      "cell_type": "code",
      "source": "# Plot a scatter point chart with x axis to be Flight Number and y axis to be the launch site, and hue to be the class value\nsns.catplot(y=\"LaunchSite\", x=\"FlightNumber\", hue=\"Class\", data=df, aspect = 5)\nplt.xlabel(\"Flight Number\",fontsize=20)\nplt.ylabel(\"LaunchSite\",fontsize=20)\nplt.show()",
      "metadata": {
        "trusted": true
      },
      "outputs": [],
      "execution_count": null
    },
    {
      "cell_type": "markdown",
      "source": "Now try to explain the patterns you found in the Flight Number vs. Launch Site scatter point plots.\n",
      "metadata": {}
    },
    {
      "cell_type": "markdown",
      "source": "### TASK 2: Visualize the relationship between Payload Mass and Launch Site\n",
      "metadata": {}
    },
    {
      "cell_type": "markdown",
      "source": "We also want to observe if there is any relationship between launch sites and their payload mass.\n",
      "metadata": {}
    },
    {
      "cell_type": "code",
      "source": "# Plot a scatter point chart with x axis to be Pay Load Mass (kg) and y axis to be the launch site, and hue to be the class value\nsns.catplot(y=\"PayloadMass\", x=\"LaunchSite\", hue=\"Class\", data=df, aspect = 5)\nplt.xlabel(\"LaunchSite\",fontsize=20)\nplt.ylabel(\"PayloadMass\",fontsize=20)\nplt.show()",
      "metadata": {
        "trusted": true
      },
      "outputs": [],
      "execution_count": null
    },
    {
      "cell_type": "markdown",
      "source": "Now if you observe Payload Mass Vs. Launch Site scatter point chart you will find for the VAFB-SLC  launchsite there are no  rockets  launched for  heavypayload mass(greater than 10000).\n",
      "metadata": {}
    },
    {
      "cell_type": "markdown",
      "source": "### TASK  3: Visualize the relationship between success rate of each orbit type\n",
      "metadata": {}
    },
    {
      "cell_type": "markdown",
      "source": "Next, we want to visually check if there are any relationship between success rate and orbit type.\n",
      "metadata": {}
    },
    {
      "cell_type": "markdown",
      "source": "Let's create a `bar chart` for the sucess rate of each orbit\n",
      "metadata": {}
    },
    {
      "cell_type": "code",
      "source": "# HINT use groupby method on Orbit column and get the mean of Class column\nsns.boxplot(x=\"Orbit\",y=mean(\"Class\"))",
      "metadata": {
        "trusted": true
      },
      "outputs": [],
      "execution_count": null
    },
    {
      "cell_type": "markdown",
      "source": "Analyze the plotted bar chart to identify which orbits have the highest success rates.\n",
      "metadata": {}
    },
    {
      "cell_type": "markdown",
      "source": "### TASK  4: Visualize the relationship between FlightNumber and Orbit type\n",
      "metadata": {}
    },
    {
      "cell_type": "markdown",
      "source": "For each orbit, we want to see if there is any relationship between FlightNumber and Orbit type.\n",
      "metadata": {}
    },
    {
      "cell_type": "code",
      "source": "# Plot a scatter point chart with x axis to be FlightNumber and y axis to be the Orbit, and hue to be the class value\nsns.relplot(y=\"Orbit\", x=\"FlightNumber\", hue=\"Class\", data=df, aspect = 5)\nplt.xlabel(\"FlightNumber\",fontsize=20)\nplt.ylabel(\"Orbit\",fontsize=20)\nplt.show()",
      "metadata": {
        "trusted": true
      },
      "outputs": [],
      "execution_count": null
    },
    {
      "cell_type": "markdown",
      "source": "You can observe that in the LEO orbit, success seems to be related to the number of flights. Conversely, in the GTO orbit, there appears to be no relationship between flight number and success.\n",
      "metadata": {}
    },
    {
      "cell_type": "markdown",
      "source": "### TASK  5: Visualize the relationship between Payload Mass and Orbit type\n",
      "metadata": {}
    },
    {
      "cell_type": "markdown",
      "source": "Similarly, we can plot the Payload Mass vs. Orbit scatter point charts to reveal the relationship between Payload Mass and Orbit type\n",
      "metadata": {}
    },
    {
      "cell_type": "code",
      "source": "# Plot a scatter point chart with x axis to be Payload Mass and y axis to be the Orbit, and hue to be the class value\nsns.relplot(y=\"Orbit\", x=\"PayloadMass\", hue=\"Class\", data=df, aspect = 5)\nplt.xlabel(\"PayloadMass\",fontsize=20)\nplt.ylabel(\"Orbit\",fontsize=20)\nplt.show()",
      "metadata": {
        "trusted": true
      },
      "outputs": [],
      "execution_count": null
    },
    {
      "cell_type": "markdown",
      "source": "With heavy payloads the successful landing or positive landing rate are more for Polar,LEO and ISS.\n\nHowever, for GTO, it's difficult to distinguish between successful and unsuccessful landings as both outcomes are present.\n",
      "metadata": {}
    },
    {
      "cell_type": "markdown",
      "source": "### TASK  6: Visualize the launch success yearly trend\n",
      "metadata": {}
    },
    {
      "cell_type": "markdown",
      "source": "You can plot a line chart with x axis to be <code>Year</code> and y axis to be average success rate, to get the average launch success trend.\n",
      "metadata": {}
    },
    {
      "cell_type": "markdown",
      "source": "The function will help you get the year from the date:\n",
      "metadata": {}
    },
    {
      "cell_type": "code",
      "source": "# A function to Extract years from the date \nyear=[]\ndef Extract_year():\n    for i in df[\"Date\"]:\n        year.append(i.split(\"-\")[0])\n    return year\nExtract_year()\ndf['Date'] = year\ndf['year'] = pd.DatetimeIndex(df['Date']).year\ndf.head()\n    ",
      "metadata": {
        "trusted": true
      },
      "outputs": [],
      "execution_count": null
    },
    {
      "cell_type": "code",
      "source": "# Plot a line chart with x axis to be the extracted year and y axis to be the success rate\n\nsns.lineplot(y=df['Class'].mean(), x=year)\nplt.xlabel(\"year\",fontsize=20)\nplt.ylabel(\"success rate \",fontsize=20)\nplt.show()",
      "metadata": {
        "trusted": true
      },
      "outputs": [],
      "execution_count": null
    },
    {
      "cell_type": "markdown",
      "source": "you can observe that the sucess rate since 2013 kept increasing till 2020\n",
      "metadata": {}
    },
    {
      "cell_type": "markdown",
      "source": "## Features Engineering\n",
      "metadata": {}
    },
    {
      "cell_type": "markdown",
      "source": "By now, you should obtain some preliminary insights about how each important variable would affect the success rate, we will select the features that will be used in success prediction in the future module.\n",
      "metadata": {}
    },
    {
      "cell_type": "code",
      "source": "features = df[['FlightNumber', 'PayloadMass', 'Orbit', 'LaunchSite', 'Flights', 'GridFins', 'Reused', 'Legs', 'LandingPad', 'Block', 'ReusedCount', 'Serial']]\nfeatures.head()",
      "metadata": {
        "trusted": true
      },
      "outputs": [
        {
          "execution_count": 49,
          "output_type": "execute_result",
          "data": {
            "text/plain": "   FlightNumber  PayloadMass Orbit    LaunchSite  Flights  GridFins  Reused  \\\n0             1  6104.959412   LEO  CCAFS SLC 40        1     False   False   \n1             2   525.000000   LEO  CCAFS SLC 40        1     False   False   \n2             3   677.000000   ISS  CCAFS SLC 40        1     False   False   \n3             4   500.000000    PO   VAFB SLC 4E        1     False   False   \n4             5  3170.000000   GTO  CCAFS SLC 40        1     False   False   \n\n    Legs LandingPad  Block  ReusedCount Serial  \n0  False        NaN    1.0            0  B0003  \n1  False        NaN    1.0            0  B0005  \n2  False        NaN    1.0            0  B0007  \n3  False        NaN    1.0            0  B1003  \n4  False        NaN    1.0            0  B1004  ",
            "text/html": "<div>\n<style scoped>\n    .dataframe tbody tr th:only-of-type {\n        vertical-align: middle;\n    }\n\n    .dataframe tbody tr th {\n        vertical-align: top;\n    }\n\n    .dataframe thead th {\n        text-align: right;\n    }\n</style>\n<table border=\"1\" class=\"dataframe\">\n  <thead>\n    <tr style=\"text-align: right;\">\n      <th></th>\n      <th>FlightNumber</th>\n      <th>PayloadMass</th>\n      <th>Orbit</th>\n      <th>LaunchSite</th>\n      <th>Flights</th>\n      <th>GridFins</th>\n      <th>Reused</th>\n      <th>Legs</th>\n      <th>LandingPad</th>\n      <th>Block</th>\n      <th>ReusedCount</th>\n      <th>Serial</th>\n    </tr>\n  </thead>\n  <tbody>\n    <tr>\n      <th>0</th>\n      <td>1</td>\n      <td>6104.959412</td>\n      <td>LEO</td>\n      <td>CCAFS SLC 40</td>\n      <td>1</td>\n      <td>False</td>\n      <td>False</td>\n      <td>False</td>\n      <td>NaN</td>\n      <td>1.0</td>\n      <td>0</td>\n      <td>B0003</td>\n    </tr>\n    <tr>\n      <th>1</th>\n      <td>2</td>\n      <td>525.000000</td>\n      <td>LEO</td>\n      <td>CCAFS SLC 40</td>\n      <td>1</td>\n      <td>False</td>\n      <td>False</td>\n      <td>False</td>\n      <td>NaN</td>\n      <td>1.0</td>\n      <td>0</td>\n      <td>B0005</td>\n    </tr>\n    <tr>\n      <th>2</th>\n      <td>3</td>\n      <td>677.000000</td>\n      <td>ISS</td>\n      <td>CCAFS SLC 40</td>\n      <td>1</td>\n      <td>False</td>\n      <td>False</td>\n      <td>False</td>\n      <td>NaN</td>\n      <td>1.0</td>\n      <td>0</td>\n      <td>B0007</td>\n    </tr>\n    <tr>\n      <th>3</th>\n      <td>4</td>\n      <td>500.000000</td>\n      <td>PO</td>\n      <td>VAFB SLC 4E</td>\n      <td>1</td>\n      <td>False</td>\n      <td>False</td>\n      <td>False</td>\n      <td>NaN</td>\n      <td>1.0</td>\n      <td>0</td>\n      <td>B1003</td>\n    </tr>\n    <tr>\n      <th>4</th>\n      <td>5</td>\n      <td>3170.000000</td>\n      <td>GTO</td>\n      <td>CCAFS SLC 40</td>\n      <td>1</td>\n      <td>False</td>\n      <td>False</td>\n      <td>False</td>\n      <td>NaN</td>\n      <td>1.0</td>\n      <td>0</td>\n      <td>B1004</td>\n    </tr>\n  </tbody>\n</table>\n</div>"
          },
          "metadata": {}
        }
      ],
      "execution_count": 49
    },
    {
      "cell_type": "markdown",
      "source": "### TASK  7: Create dummy variables to categorical columns\n",
      "metadata": {}
    },
    {
      "cell_type": "markdown",
      "source": "Use the function <code>get_dummies</code> and <code>features</code> dataframe to apply OneHotEncoder to the column <code>Orbits</code>, <code>LaunchSite</code>, <code>LandingPad</code>, and <code>Serial</code>. Assign the value to the variable <code>features_one_hot</code>, display the results using the method head. Your result dataframe must include all features including the encoded ones.\n",
      "metadata": {}
    },
    {
      "cell_type": "code",
      "source": "# HINT: Use get_dummies() function on the categorical columns\nfeatures_one_hot = pd.get_dummies(['Orbits','LaunchSite','LandingPad','Serial'])\ndf.head()\n",
      "metadata": {
        "trusted": true
      },
      "outputs": [
        {
          "execution_count": 62,
          "output_type": "execute_result",
          "data": {
            "text/plain": "   FlightNumber  Date BoosterVersion  PayloadMass Orbit    LaunchSite  \\\n0             1  2010       Falcon 9  6104.959412   LEO  CCAFS SLC 40   \n1             2  2012       Falcon 9   525.000000   LEO  CCAFS SLC 40   \n2             3  2013       Falcon 9   677.000000   ISS  CCAFS SLC 40   \n3             4  2013       Falcon 9   500.000000    PO   VAFB SLC 4E   \n4             5  2013       Falcon 9  3170.000000   GTO  CCAFS SLC 40   \n\n       Outcome  Flights  GridFins  Reused   Legs LandingPad  Block  \\\n0    None None        1     False   False  False        NaN    1.0   \n1    None None        1     False   False  False        NaN    1.0   \n2    None None        1     False   False  False        NaN    1.0   \n3  False Ocean        1     False   False  False        NaN    1.0   \n4    None None        1     False   False  False        NaN    1.0   \n\n   ReusedCount Serial   Longitude   Latitude  Class  year  \n0            0  B0003  -80.577366  28.561857      0  2010  \n1            0  B0005  -80.577366  28.561857      0  2012  \n2            0  B0007  -80.577366  28.561857      0  2013  \n3            0  B1003 -120.610829  34.632093      0  2013  \n4            0  B1004  -80.577366  28.561857      0  2013  ",
            "text/html": "<div>\n<style scoped>\n    .dataframe tbody tr th:only-of-type {\n        vertical-align: middle;\n    }\n\n    .dataframe tbody tr th {\n        vertical-align: top;\n    }\n\n    .dataframe thead th {\n        text-align: right;\n    }\n</style>\n<table border=\"1\" class=\"dataframe\">\n  <thead>\n    <tr style=\"text-align: right;\">\n      <th></th>\n      <th>FlightNumber</th>\n      <th>Date</th>\n      <th>BoosterVersion</th>\n      <th>PayloadMass</th>\n      <th>Orbit</th>\n      <th>LaunchSite</th>\n      <th>Outcome</th>\n      <th>Flights</th>\n      <th>GridFins</th>\n      <th>Reused</th>\n      <th>Legs</th>\n      <th>LandingPad</th>\n      <th>Block</th>\n      <th>ReusedCount</th>\n      <th>Serial</th>\n      <th>Longitude</th>\n      <th>Latitude</th>\n      <th>Class</th>\n      <th>year</th>\n    </tr>\n  </thead>\n  <tbody>\n    <tr>\n      <th>0</th>\n      <td>1</td>\n      <td>2010</td>\n      <td>Falcon 9</td>\n      <td>6104.959412</td>\n      <td>LEO</td>\n      <td>CCAFS SLC 40</td>\n      <td>None None</td>\n      <td>1</td>\n      <td>False</td>\n      <td>False</td>\n      <td>False</td>\n      <td>NaN</td>\n      <td>1.0</td>\n      <td>0</td>\n      <td>B0003</td>\n      <td>-80.577366</td>\n      <td>28.561857</td>\n      <td>0</td>\n      <td>2010</td>\n    </tr>\n    <tr>\n      <th>1</th>\n      <td>2</td>\n      <td>2012</td>\n      <td>Falcon 9</td>\n      <td>525.000000</td>\n      <td>LEO</td>\n      <td>CCAFS SLC 40</td>\n      <td>None None</td>\n      <td>1</td>\n      <td>False</td>\n      <td>False</td>\n      <td>False</td>\n      <td>NaN</td>\n      <td>1.0</td>\n      <td>0</td>\n      <td>B0005</td>\n      <td>-80.577366</td>\n      <td>28.561857</td>\n      <td>0</td>\n      <td>2012</td>\n    </tr>\n    <tr>\n      <th>2</th>\n      <td>3</td>\n      <td>2013</td>\n      <td>Falcon 9</td>\n      <td>677.000000</td>\n      <td>ISS</td>\n      <td>CCAFS SLC 40</td>\n      <td>None None</td>\n      <td>1</td>\n      <td>False</td>\n      <td>False</td>\n      <td>False</td>\n      <td>NaN</td>\n      <td>1.0</td>\n      <td>0</td>\n      <td>B0007</td>\n      <td>-80.577366</td>\n      <td>28.561857</td>\n      <td>0</td>\n      <td>2013</td>\n    </tr>\n    <tr>\n      <th>3</th>\n      <td>4</td>\n      <td>2013</td>\n      <td>Falcon 9</td>\n      <td>500.000000</td>\n      <td>PO</td>\n      <td>VAFB SLC 4E</td>\n      <td>False Ocean</td>\n      <td>1</td>\n      <td>False</td>\n      <td>False</td>\n      <td>False</td>\n      <td>NaN</td>\n      <td>1.0</td>\n      <td>0</td>\n      <td>B1003</td>\n      <td>-120.610829</td>\n      <td>34.632093</td>\n      <td>0</td>\n      <td>2013</td>\n    </tr>\n    <tr>\n      <th>4</th>\n      <td>5</td>\n      <td>2013</td>\n      <td>Falcon 9</td>\n      <td>3170.000000</td>\n      <td>GTO</td>\n      <td>CCAFS SLC 40</td>\n      <td>None None</td>\n      <td>1</td>\n      <td>False</td>\n      <td>False</td>\n      <td>False</td>\n      <td>NaN</td>\n      <td>1.0</td>\n      <td>0</td>\n      <td>B1004</td>\n      <td>-80.577366</td>\n      <td>28.561857</td>\n      <td>0</td>\n      <td>2013</td>\n    </tr>\n  </tbody>\n</table>\n</div>"
          },
          "metadata": {}
        }
      ],
      "execution_count": 62
    },
    {
      "cell_type": "markdown",
      "source": "### TASK  8: Cast all numeric columns to `float64`\n",
      "metadata": {}
    },
    {
      "cell_type": "markdown",
      "source": "Now that our <code>features_one_hot</code> dataframe only contains numbers, cast the entire dataframe to variable type <code>float64</code>\n",
      "metadata": {}
    },
    {
      "cell_type": "code",
      "source": "features_one_hot = features_one_hot.astype('float64')\n\nfeatures_one_hot.dtypes  \n\nfeatures_one_hot.to_csv('dataset_part_3.csv', index=False)",
      "metadata": {
        "trusted": true
      },
      "outputs": [],
      "execution_count": null
    },
    {
      "cell_type": "markdown",
      "source": "We can now export it to a <b>CSV</b> for the next section,but to make the answers consistent, in the next lab we will provide data in a pre-selected date range.\n",
      "metadata": {}
    },
    {
      "cell_type": "markdown",
      "source": "<code>features_one_hot.to_csv('dataset_part\\_3.csv', index=False)</code>\n",
      "metadata": {}
    },
    {
      "cell_type": "markdown",
      "source": "## Authors\n",
      "metadata": {}
    },
    {
      "cell_type": "markdown",
      "source": "[Pratiksha Verma](https://www.linkedin.com/in/pratiksha-verma-6487561b1/)\n",
      "metadata": {}
    },
    {
      "cell_type": "markdown",
      "source": "<!--## Change Log-->\n",
      "metadata": {}
    },
    {
      "cell_type": "markdown",
      "source": "<!--\n| Date (YYYY-MM-DD) | Version | Changed By      | Change Description      |\n| ----------------- | ------- | -------------   | ----------------------- |\n| 2022-11-09        | 1.0     | Pratiksha Verma | Converted initial version to Jupyterlite|\n| 2024-07-18        | 1.2     | Anita Verma | Clarified instructions|\n-->\n",
      "metadata": {}
    },
    {
      "cell_type": "markdown",
      "source": "### <h3 align=\"center\"> IBM Corporation 2022. All rights reserved. <h3/>\n",
      "metadata": {}
    }
  ]
}